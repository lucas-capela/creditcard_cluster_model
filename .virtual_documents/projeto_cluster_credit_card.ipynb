import pandas as pd
import matplotlib.pyplot as plt
import seaborn as sns
from sklearn.preprocessing import MinMaxScaler
from sklearn.cluster import KMeans
from scipy.cluster.hierarchy import dendrogram, linkage



df = pd.read_csv('Customer_Data.csv')


df.head()


df.shape


def verificar_colunas_com_unico_valor(dataframe):
    colunas_unico_valor = []
    for coluna in dataframe.columns:
        if dataframe[coluna].nunique() == 1:
            colunas_unico_valor.append(coluna)
    return colunas_unico_valor

# Aplicar a função e imprimir o resultado
colunas_com_unico_valor = verificar_colunas_com_unico_valor(df)
print("Colunas com um único valor:", colunas_com_unico_valor)


df.info()


percentual_nulos = df.isnull().mean() * 100
percentual_nulos


valores_nulos = df[df['minimum_payments'].isnull()]
valores_nulos.head()


df['minimum_payments'] = df['minimum_payments'].fillna(0)


valores_nulos = df[df['credit_limit'].isnull()]
valores_nulos.head()


df['credit_limit'] = df['credit_limit'].fillna(0)


percentual_nulos = df.isnull().mean() * 100
percentual_nulos



# Criar o gráfico de distribuição usando a coluna 'balance' do DataFrame 'df'
plt.figure(figsize=(10, 6))
plt.hist(df['balance'], bins=10, edgecolor='black')
plt.title('Distribuição da Coluna Balance')
plt.xlabel('Balance')
plt.ylabel('Frequência')
plt.grid(True)

# Exibir o gráfico
plt.show()


# Criar o gráfico de dispersão
plt.figure(figsize=(10, 6))
plt.scatter(df['cash_advance'], df['credit_limit'], alpha=0.5)
plt.title('Gráfico de Dispersão: Cash Advance vs. Credit Limit')
plt.xlabel('Cash Advance')
plt.ylabel('Credit Limit')
plt.grid(True)

# Exibir o gráfico
plt.show()


# Criar o gráfico de dispersão
plt.figure(figsize=(10, 6))
plt.scatter(df['cash_advance_trx'], df['credit_limit'], alpha=0.5)
plt.title('Gráfico de Dispersão: Cash Advance vs. Credit Limit')
plt.xlabel('Cash Advance TRX')
plt.ylabel('Credit Limit')
plt.grid(True)

# Exibir o gráfico
plt.show()


# Criar o gráfico de dispersão
plt.figure(figsize=(10, 6))
plt.scatter(df['credit_limit'], df['balance'], alpha=0.6)
plt.title('Relação entre Saldo e Limite de Crédito')
plt.xlabel('Limite de Crédito')
plt.ylabel('Saldo')
plt.grid(True)
plt.show()



# Criar o gráfico de dispersão
plt.figure(figsize=(10, 6))
plt.scatter(df['credit_limit'], df['installments_purchases'], alpha=0.6)
plt.title('Relação entre Compras Parceladas e Limite de Crédito')
plt.xlabel('Limite de Crédito')
plt.ylabel('Compras Parceladas')
plt.grid(True)
plt.show()


df.head()


# Definir a coluna cust_id como índice
df.set_index('cust_id', inplace=True)
df1 = df.copy()
# Normalizar as outras colunas
scaler = MinMaxScaler()
df1[df1.columns] = scaler.fit_transform(df1[df1.columns])

# Mostrar o DataFrame resultante
df1.head()


# Aplicar o método do cotovelo
sse = []
k_range = range(1, 31)

for k in k_range:
    kmeans = KMeans(n_clusters=k, random_state=42)
    kmeans.fit(df1)
    sse.append(kmeans.inertia_)

# Plotar o gráfico do método do cotovelo
plt.figure(figsize=(10, 6))
plt.plot(k_range, sse, 'bo-')
plt.xlabel('Número de Clusters')
plt.ylabel('Soma dos Quadrados Dentro dos Clusters (Inertia)')
plt.title('Método do Cotovelo para Encontrar o Número Ideal de Clusters')
plt.grid(True)
plt.show()


# Aplicar a clusterização hierárquica
linked = linkage(df1, method='ward')

# Plotar o dendrograma
plt.figure(figsize=(10, 6))
dendrogram(linked,
           orientation='top',
           distance_sort='descending',
           show_leaf_counts=True,
           labels=df1.index)
plt.title('Dendrograma da Clusterização Hierárquica')
plt.xlabel('Clientes')
plt.ylabel('Distância Euclidiana')
plt.show()


# Aplicar o K-means com 5 clusters
kmeans = KMeans(n_clusters=5, random_state=42)
df['cluster'] = kmeans.fit_predict(df1)

# Visualizar os resultados
print(df)

# Plotar os clusters
plt.figure(figsize=(10, 6))
plt.scatter(df['credit_limit'], df['installments_purchases'], c=df['cluster'], cmap='viridis', alpha=0.6)
plt.title('Segmentação de Clientes em 5 Clusters')
plt.xlabel('Limite de Crédito (Normalizado)')
plt.ylabel('Compras Parceladas (Normalizado)')
plt.colorbar(label='Cluster')
plt.grid(True)
plt.show()


df.head()


# Agrupar por cluster e calcular as métricas necessárias
cluster_report = df.groupby('cluster').agg(
    balance_mean=('balance', 'mean'),
    purchases_mean=('purchases', 'mean'),
    installments_purchases_mean=('installments_purchases', 'mean'),
    oneoff_purchases_mean=('oneoff_purchases', 'mean'),
    credit_limit_mean=('credit_limit', 'mean'),
    cust_count=('balance', 'count')
)

# Calcular o percentual de cust_id para cada cluster
total_cust = df.shape[0]
cluster_report['percentage_of_total'] = (cluster_report['cust_count'] / total_cust) * 100

# Exibir o relatório de clusterização
cluster_report.reset_index()


# Lista de variáveis para o clustering
variables = ['balance', 'purchases', 'installments_purchases', 'oneoff_purchases', 'credit_limit']

# DataFrame para armazenar todos os resultados de clusterização
all_clusters_report = pd.DataFrame()

# Loop para gerar clusters entre 5 e 8
for n_clusters in range(5, 9):
    kmeans = KMeans(n_clusters=n_clusters, random_state=42)
    df['cluster'] = kmeans.fit_predict(df1)
    
    # Agrupar por cluster e calcular as métricas necessárias
    cluster_report = df.groupby('cluster').agg(
        balance_mean=('balance', 'mean'),
        purchases_mean=('purchases', 'mean'),
        installments_purchases_mean=('installments_purchases', 'mean'),
        oneoff_purchases_mean=('oneoff_purchases', 'mean'),
        credit_limit_mean=('credit_limit', 'mean'),
        cust_count=('balance', 'count')
    )
    
    # Calcular o percentual de cust_id para cada cluster
    total_cust = df.shape[0]
    cluster_report['percentage_of_total'] = (cluster_report['cust_count'] / total_cust) * 100
    
    # Adicionar a coluna indicando o número de clusters
    cluster_report['n_clusters'] = n_clusters
    
    # Empilhar os resultados no DataFrame final
    all_clusters_report = pd.concat([all_clusters_report, cluster_report.reset_index()], ignore_index=True)

# Exibir o relatório de clusterização final
all_clusters_report


# Exportar o DataFrame para um arquivo Excel
all_clusters_report.to_excel("cluster_report.xlsx", index=False)



